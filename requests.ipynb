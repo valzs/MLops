{
 "cells": [
  {
   "cell_type": "code",
   "execution_count": 22,
   "id": "af3cf0fc-4924-4fc5-b92c-d5bb2c63106f",
   "metadata": {},
   "outputs": [],
   "source": [
    "import requests"
   ]
  },
  {
   "cell_type": "code",
   "execution_count": 23,
   "id": "45af6ebf-6059-4971-927e-f0b2513cdb26",
   "metadata": {},
   "outputs": [],
   "source": [
    "url ='http://127.0.0.1:5000/cotacao/'"
   ]
  },
  {
   "cell_type": "code",
   "execution_count": 24,
   "id": "e5e91484-0c66-4197-8856-d783fca7551a",
   "metadata": {},
   "outputs": [],
   "source": [
    "dados ={\n",
    "    \"tamanho\": 120,\n",
    "    \"ano\": 2001,\n",
    "    \"garagem\": 2\n",
    "}"
   ]
  },
  {
   "cell_type": "code",
   "execution_count": 25,
   "id": "cf5462b4-da29-4ee5-9654-848812acfd21",
   "metadata": {},
   "outputs": [],
   "source": [
    "auth = requests.auth.HTTPBasicAuth('admin','github')"
   ]
  },
  {
   "cell_type": "code",
   "execution_count": 27,
   "id": "5544214f-29fa-41de-a35f-5c3da60e0bd0",
   "metadata": {},
   "outputs": [],
   "source": [
    "response = requests.post(url,json=dados, auth=auth)"
   ]
  },
  {
   "cell_type": "code",
   "execution_count": 28,
   "id": "768c5f2a-f98e-4c57-923e-1d4df9a5465c",
   "metadata": {},
   "outputs": [
    {
     "data": {
      "text/plain": [
       "200"
      ]
     },
     "execution_count": 28,
     "metadata": {},
     "output_type": "execute_result"
    }
   ],
   "source": [
    "response.status_code"
   ]
  },
  {
   "cell_type": "code",
   "execution_count": 14,
   "id": "4773f1ee-1ce3-46ed-a156-314b2954382d",
   "metadata": {},
   "outputs": [
    {
     "data": {
      "text/plain": [
       "'{\\n  \"preco\": 191436.5350383143\\n}\\n'"
      ]
     },
     "execution_count": 14,
     "metadata": {},
     "output_type": "execute_result"
    }
   ],
   "source": [
    "response.text"
   ]
  },
  {
   "cell_type": "code",
   "execution_count": 16,
   "id": "f701f33c-decf-4c64-bf3c-eadfafae7feb",
   "metadata": {},
   "outputs": [
    {
     "data": {
      "text/plain": [
       "{'preco': 191436.5350383143}"
      ]
     },
     "execution_count": 16,
     "metadata": {},
     "output_type": "execute_result"
    }
   ],
   "source": [
    "response.json()"
   ]
  },
  {
   "cell_type": "code",
   "execution_count": null,
   "id": "d0829072-5f29-42f6-bd06-59a6ef1c8bd5",
   "metadata": {},
   "outputs": [],
   "source": []
  }
 ],
 "metadata": {
  "kernelspec": {
   "display_name": "Python 3 (ipykernel)",
   "language": "python",
   "name": "python3"
  },
  "language_info": {
   "codemirror_mode": {
    "name": "ipython",
    "version": 3
   },
   "file_extension": ".py",
   "mimetype": "text/x-python",
   "name": "python",
   "nbconvert_exporter": "python",
   "pygments_lexer": "ipython3",
   "version": "3.12.7"
  }
 },
 "nbformat": 4,
 "nbformat_minor": 5
}
